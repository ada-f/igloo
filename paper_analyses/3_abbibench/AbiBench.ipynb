{
 "cells": [
  {
   "cell_type": "code",
   "execution_count": null,
   "id": "f63f3080",
   "metadata": {},
   "outputs": [],
   "source": [
    "import os\n",
    "import pandas as pd\n",
    "import matplotlib.pyplot as plt\n",
    "import numpy as np\n",
    "from glob import glob\n",
    "import importlib\n",
    "import ridge_regression_task\n",
    "importlib.reload(ridge_regression_task)\n",
    "from ridge_regression_task import train_regression_model, train_classification_model\n",
    "import warnings\n",
    "from sklearn.preprocessing import StandardScaler\n",
    "import sys\n",
    "sys.path.append(\"igloo\")\n",
    "from FLab_process_sequences import get_loop_regions\n",
    "\n",
    "warnings.filterwarnings('ignore')\n",
    "\n",
    "DATA_DIR = \"benchmarking_data/AbiBench\""
   ]
  },
  {
   "cell_type": "markdown",
   "id": "7f2504d3",
   "metadata": {},
   "source": [
    "# Data processing, get light chain and filter out repeated values"
   ]
  },
  {
   "cell_type": "code",
   "execution_count": null,
   "id": "2e7813da",
   "metadata": {},
   "outputs": [],
   "source": [
    "# fetch light chains for better folding with Ibex\n",
    "sabdab_df = pd.read_parquet(\"preprocessed_data/sabdab_2025-05-06-paired.parquet\")\n",
    "\n",
    "aayl_df = pd.read_csv('benchmarking_data/AbiBench/raw/aayl49_51_MITLL_AAlphaBio_Ab_Binding_dataset.csv')\n",
    "aayl_df['seed'] = aayl_df['POI'].str.split('_').str[0]\n",
    "aayl_df = aayl_df[aayl_df['seed'].isin(['AAYL49', 'AAYL51'])]\n",
    "aayl_df = aayl_df[['seed', 'LC']].drop_duplicates()\n",
    "aayl_df\n",
    "\n",
    "light_chains_dict = {}\n",
    "for pdb_code in [\"1mlc\", \"4fqi\", \"3gbn\", \"2fjg\", \"1n8z\", \"1mhp\", \"4fqi\"]:\n",
    "    light_chains = sabdab_df[sabdab_df['pdb_code'] == pdb_code]['fv_light'].unique()\n",
    "    if len(light_chains) != 1:\n",
    "        print(f\"Skipping {pdb_code} because it has {len(light_chains)} light chains\")\n",
    "    light_chain = light_chains[0]\n",
    "    light_chains_dict[pdb_code] = light_chain\n",
    "\n",
    "for _, row in aayl_df.iterrows():\n",
    "    light_chains_dict[row['seed'].lower()] = row['LC']"
   ]
  },
  {
   "cell_type": "code",
   "execution_count": 52,
   "id": "5c6c60a6",
   "metadata": {},
   "outputs": [
    {
     "name": "stdout",
     "output_type": "stream",
     "text": [
      "1mlc: DIELTQSPATLSVTPGDSVSLSCRASQSISNNLHWYQQKSHESPRLLIKYVSQSSSGIPSRFSGSGSGTDFTLSINSVETEDFGMYFCQQSNSWPRTFGGGTKLEIK\n",
      "4fqi: QSALTQPPAVSGTPGQRVTISCSGSDSNIGRRSVNWYQQFPGTAPKLLIYSNDQRPSVVPDRFSGSKSGTSASLAISGLQSEDEAEYYCAAWDDSLKGAVFGGGTQLTVLG\n",
      "3gbn: QSVLTQPPSVSAAPGQKVTISCSGSSSNIGNDYVSWYQQLPGTAPKLLIYDNNKRPSGIPDRFSGSKSGTSATLGITGLQTGDEANYYCATWDRRPTAYVVFGGGTKLTVLG\n",
      "2fjg: DIQMTQSPSSLSASVGDRVTITCRASQDVSTAVAWYQQKPGKAPKLLIYSASFLYSGVPSRFSGSGSGTDFTLTISSLQPEDFATYYCQQSYTTPPTFGQGTKVEIK\n",
      "1n8z: DIQMTQSPSSLSASVGDRVTITCRASQDVNTAVAWYQQKPGKAPKLLIYSASFLYSGVPSRFSGSRSGTDFTLTISSLQPEDFATYYCQQHYTTPPTFGQGTKVEIK\n",
      "1mhp: dIQLTQSPSSLSASVGDRVTITCSASSSVNHMFWYQQKPGKAPKPWIYLTSNLASGVPSRFSGSGSGTDYTLTISSLQPEDFATYYCQQWSGNPWTFGQGTKVEIK\n",
      "aayl49: DVVMTQSPESLAVSLGERATISCKSSQSVLYESRNKNSVAWYQQKAGQPPKLLIYWASTRESGVPDRFSGSGSGTDFTLTISSLQAEDAAVYYCQQYHRLPLSFGGGTKVEIK\n",
      "aayl51: QAVLTQPSSLSASPGASVSLTCTLRSGINVGTYRIYWYQQKPGSPPQYLLRYKSDSDKQQGSGVPSRFSGSKDASANAGILLISGLQSEDEADYYCMIWHSSAWVFGGGTKLTVL\n"
     ]
    }
   ],
   "source": [
    "for k, v in light_chains_dict.items():\n",
    "    print(f\"{k}: {v}\")"
   ]
  },
  {
   "cell_type": "code",
   "execution_count": 6,
   "id": "71664ec0",
   "metadata": {},
   "outputs": [
    {
     "data": {
      "text/html": [
       "<div>\n",
       "<style scoped>\n",
       "    .dataframe tbody tr th:only-of-type {\n",
       "        vertical-align: middle;\n",
       "    }\n",
       "\n",
       "    .dataframe tbody tr th {\n",
       "        vertical-align: top;\n",
       "    }\n",
       "\n",
       "    .dataframe thead th {\n",
       "        text-align: right;\n",
       "    }\n",
       "</style>\n",
       "<table border=\"1\" class=\"dataframe\">\n",
       "  <thead>\n",
       "    <tr style=\"text-align: right;\">\n",
       "      <th></th>\n",
       "      <th>pdb_id</th>\n",
       "      <th>light_chain</th>\n",
       "      <th>aho_light</th>\n",
       "      <th>LFW1</th>\n",
       "      <th>L1</th>\n",
       "      <th>LFW2</th>\n",
       "      <th>L2</th>\n",
       "      <th>LFW3</th>\n",
       "      <th>L4</th>\n",
       "      <th>LFW4</th>\n",
       "      <th>L3</th>\n",
       "      <th>LFW5</th>\n",
       "    </tr>\n",
       "  </thead>\n",
       "  <tbody>\n",
       "    <tr>\n",
       "      <th>0</th>\n",
       "      <td>1mlc</td>\n",
       "      <td>DIELTQSPATLSVTPGDSVSLSCRASQSISNNLHWYQQKSHESPRL...</td>\n",
       "      <td>DIELTQSPATLSVTPGDSVSLSCRAS--QSIS------NNLHWYQQ...</td>\n",
       "      <td>DIELTQSPATLSVTPGDSVSLSC</td>\n",
       "      <td>RASQSISNNLH</td>\n",
       "      <td>WYQQKSHESPRLLI</td>\n",
       "      <td>KYVSQSSS</td>\n",
       "      <td>GIPSRFSGS</td>\n",
       "      <td>GSGTDF</td>\n",
       "      <td>TLSINSVETEDFGMYFC</td>\n",
       "      <td>QQSNSWPRT</td>\n",
       "      <td>FGGGTKLEIK</td>\n",
       "    </tr>\n",
       "    <tr>\n",
       "      <th>1</th>\n",
       "      <td>4fqi</td>\n",
       "      <td>QSALTQPPAVSGTPGQRVTISCSGSDSNIGRRSVNWYQQFPGTAPK...</td>\n",
       "      <td>QSALTQP-PAVSGTPGQRVTISCSGSD-SNIGR-----RSVNWYQQ...</td>\n",
       "      <td>QSALTQPPAVSGTPGQRVTISC</td>\n",
       "      <td>SGSDSNIGRRSVN</td>\n",
       "      <td>WYQQFPGTAPKLLI</td>\n",
       "      <td>YSNDQRPS</td>\n",
       "      <td>VVPDRFSGS</td>\n",
       "      <td>KSGTSA</td>\n",
       "      <td>SLAISGLQSEDEAEYYC</td>\n",
       "      <td>AAWDDSLKGAV</td>\n",
       "      <td>FGGGTQLTVLG</td>\n",
       "    </tr>\n",
       "    <tr>\n",
       "      <th>2</th>\n",
       "      <td>3gbn</td>\n",
       "      <td>QSVLTQPPSVSAAPGQKVTISCSGSSSNIGNDYVSWYQQLPGTAPK...</td>\n",
       "      <td>QSVLTQP-PSVSAAPGQKVTISCSGSS-SNIGN-----DYVSWYQQ...</td>\n",
       "      <td>QSVLTQPPSVSAAPGQKVTISC</td>\n",
       "      <td>SGSSSNIGNDYVS</td>\n",
       "      <td>WYQQLPGTAPKLLI</td>\n",
       "      <td>YDNNKRPS</td>\n",
       "      <td>GIPDRFSGS</td>\n",
       "      <td>KSGTSA</td>\n",
       "      <td>TLGITGLQTGDEANYYC</td>\n",
       "      <td>ATWDRRPTAYVV</td>\n",
       "      <td>FGGGTKLTVLG</td>\n",
       "    </tr>\n",
       "    <tr>\n",
       "      <th>3</th>\n",
       "      <td>2fjg</td>\n",
       "      <td>DIQMTQSPSSLSASVGDRVTITCRASQDVSTAVAWYQQKPGKAPKL...</td>\n",
       "      <td>DIQMTQSPSSLSASVGDRVTITCRAS--QDVS------TAVAWYQQ...</td>\n",
       "      <td>DIQMTQSPSSLSASVGDRVTITC</td>\n",
       "      <td>RASQDVSTAVA</td>\n",
       "      <td>WYQQKPGKAPKLLI</td>\n",
       "      <td>YSASFLYS</td>\n",
       "      <td>GVPSRFSGS</td>\n",
       "      <td>GSGTDF</td>\n",
       "      <td>TLTISSLQPEDFATYYC</td>\n",
       "      <td>QQSYTTPPT</td>\n",
       "      <td>FGQGTKVEIK</td>\n",
       "    </tr>\n",
       "    <tr>\n",
       "      <th>4</th>\n",
       "      <td>1n8z</td>\n",
       "      <td>DIQMTQSPSSLSASVGDRVTITCRASQDVNTAVAWYQQKPGKAPKL...</td>\n",
       "      <td>DIQMTQSPSSLSASVGDRVTITCRAS--QDVN------TAVAWYQQ...</td>\n",
       "      <td>DIQMTQSPSSLSASVGDRVTITC</td>\n",
       "      <td>RASQDVNTAVA</td>\n",
       "      <td>WYQQKPGKAPKLLI</td>\n",
       "      <td>YSASFLYS</td>\n",
       "      <td>GVPSRFSGS</td>\n",
       "      <td>RSGTDF</td>\n",
       "      <td>TLTISSLQPEDFATYYC</td>\n",
       "      <td>QQHYTTPPT</td>\n",
       "      <td>FGQGTKVEIK</td>\n",
       "    </tr>\n",
       "    <tr>\n",
       "      <th>5</th>\n",
       "      <td>1mhp</td>\n",
       "      <td>dIQLTQSPSSLSASVGDRVTITCSASSSVNHMFWYQQKPGKAPKPW...</td>\n",
       "      <td>dIQLTQSPSSLSASVGDRVTITCSAS--SSVN-------HMFWYQQ...</td>\n",
       "      <td>dIQLTQSPSSLSASVGDRVTITC</td>\n",
       "      <td>SASSSVNHMF</td>\n",
       "      <td>WYQQKPGKAPKPWI</td>\n",
       "      <td>YLTSNLAS</td>\n",
       "      <td>GVPSRFSGS</td>\n",
       "      <td>GSGTDY</td>\n",
       "      <td>TLTISSLQPEDFATYYC</td>\n",
       "      <td>QQWSGNPWT</td>\n",
       "      <td>FGQGTKVEIK</td>\n",
       "    </tr>\n",
       "    <tr>\n",
       "      <th>6</th>\n",
       "      <td>aayl49</td>\n",
       "      <td>DVVMTQSPESLAVSLGERATISCKSSQSVLYESRNKNSVAWYQQKA...</td>\n",
       "      <td>DVVMTQSPESLAVSLGERATISCKSS--QSVLYESRNKNSVAWYQQ...</td>\n",
       "      <td>DVVMTQSPESLAVSLGERATISC</td>\n",
       "      <td>KSSQSVLYESRNKNSVA</td>\n",
       "      <td>WYQQKAGQPPKLLI</td>\n",
       "      <td>YWASTRES</td>\n",
       "      <td>GVPDRFSGS</td>\n",
       "      <td>GSGTDF</td>\n",
       "      <td>TLTISSLQAEDAAVYYC</td>\n",
       "      <td>QQYHRLPLS</td>\n",
       "      <td>FGGGTKVEIK</td>\n",
       "    </tr>\n",
       "    <tr>\n",
       "      <th>7</th>\n",
       "      <td>aayl51</td>\n",
       "      <td>QAVLTQPSSLSASPGASVSLTCTLRSGINVGTYRIYWYQQKPGSPP...</td>\n",
       "      <td>QAVLTQP-SSLSASPGASVSLTCTLRS-GINVG----TYRIYWYQQ...</td>\n",
       "      <td>QAVLTQPSSLSASPGASVSLTC</td>\n",
       "      <td>TLRSGINVGTYRIY</td>\n",
       "      <td>WYQQKPGSPPQYLL</td>\n",
       "      <td>RYKSDSDKQQGS</td>\n",
       "      <td>GVPSRFSGS</td>\n",
       "      <td>KDASANAG</td>\n",
       "      <td>ILLISGLQSEDEADYYC</td>\n",
       "      <td>MIWHSSAWV</td>\n",
       "      <td>FGGGTKLTVL</td>\n",
       "    </tr>\n",
       "  </tbody>\n",
       "</table>\n",
       "</div>"
      ],
      "text/plain": [
       "   pdb_id                                        light_chain  \\\n",
       "0    1mlc  DIELTQSPATLSVTPGDSVSLSCRASQSISNNLHWYQQKSHESPRL...   \n",
       "1    4fqi  QSALTQPPAVSGTPGQRVTISCSGSDSNIGRRSVNWYQQFPGTAPK...   \n",
       "2    3gbn  QSVLTQPPSVSAAPGQKVTISCSGSSSNIGNDYVSWYQQLPGTAPK...   \n",
       "3    2fjg  DIQMTQSPSSLSASVGDRVTITCRASQDVSTAVAWYQQKPGKAPKL...   \n",
       "4    1n8z  DIQMTQSPSSLSASVGDRVTITCRASQDVNTAVAWYQQKPGKAPKL...   \n",
       "5    1mhp  dIQLTQSPSSLSASVGDRVTITCSASSSVNHMFWYQQKPGKAPKPW...   \n",
       "6  aayl49  DVVMTQSPESLAVSLGERATISCKSSQSVLYESRNKNSVAWYQQKA...   \n",
       "7  aayl51  QAVLTQPSSLSASPGASVSLTCTLRSGINVGTYRIYWYQQKPGSPP...   \n",
       "\n",
       "                                           aho_light                     LFW1  \\\n",
       "0  DIELTQSPATLSVTPGDSVSLSCRAS--QSIS------NNLHWYQQ...  DIELTQSPATLSVTPGDSVSLSC   \n",
       "1  QSALTQP-PAVSGTPGQRVTISCSGSD-SNIGR-----RSVNWYQQ...   QSALTQPPAVSGTPGQRVTISC   \n",
       "2  QSVLTQP-PSVSAAPGQKVTISCSGSS-SNIGN-----DYVSWYQQ...   QSVLTQPPSVSAAPGQKVTISC   \n",
       "3  DIQMTQSPSSLSASVGDRVTITCRAS--QDVS------TAVAWYQQ...  DIQMTQSPSSLSASVGDRVTITC   \n",
       "4  DIQMTQSPSSLSASVGDRVTITCRAS--QDVN------TAVAWYQQ...  DIQMTQSPSSLSASVGDRVTITC   \n",
       "5  dIQLTQSPSSLSASVGDRVTITCSAS--SSVN-------HMFWYQQ...  dIQLTQSPSSLSASVGDRVTITC   \n",
       "6  DVVMTQSPESLAVSLGERATISCKSS--QSVLYESRNKNSVAWYQQ...  DVVMTQSPESLAVSLGERATISC   \n",
       "7  QAVLTQP-SSLSASPGASVSLTCTLRS-GINVG----TYRIYWYQQ...   QAVLTQPSSLSASPGASVSLTC   \n",
       "\n",
       "                  L1            LFW2            L2       LFW3        L4  \\\n",
       "0        RASQSISNNLH  WYQQKSHESPRLLI      KYVSQSSS  GIPSRFSGS    GSGTDF   \n",
       "1      SGSDSNIGRRSVN  WYQQFPGTAPKLLI      YSNDQRPS  VVPDRFSGS    KSGTSA   \n",
       "2      SGSSSNIGNDYVS  WYQQLPGTAPKLLI      YDNNKRPS  GIPDRFSGS    KSGTSA   \n",
       "3        RASQDVSTAVA  WYQQKPGKAPKLLI      YSASFLYS  GVPSRFSGS    GSGTDF   \n",
       "4        RASQDVNTAVA  WYQQKPGKAPKLLI      YSASFLYS  GVPSRFSGS    RSGTDF   \n",
       "5         SASSSVNHMF  WYQQKPGKAPKPWI      YLTSNLAS  GVPSRFSGS    GSGTDY   \n",
       "6  KSSQSVLYESRNKNSVA  WYQQKAGQPPKLLI      YWASTRES  GVPDRFSGS    GSGTDF   \n",
       "7     TLRSGINVGTYRIY  WYQQKPGSPPQYLL  RYKSDSDKQQGS  GVPSRFSGS  KDASANAG   \n",
       "\n",
       "                LFW4            L3         LFW5  \n",
       "0  TLSINSVETEDFGMYFC     QQSNSWPRT   FGGGTKLEIK  \n",
       "1  SLAISGLQSEDEAEYYC   AAWDDSLKGAV  FGGGTQLTVLG  \n",
       "2  TLGITGLQTGDEANYYC  ATWDRRPTAYVV  FGGGTKLTVLG  \n",
       "3  TLTISSLQPEDFATYYC     QQSYTTPPT   FGQGTKVEIK  \n",
       "4  TLTISSLQPEDFATYYC     QQHYTTPPT   FGQGTKVEIK  \n",
       "5  TLTISSLQPEDFATYYC     QQWSGNPWT   FGQGTKVEIK  \n",
       "6  TLTISSLQAEDAAVYYC     QQYHRLPLS   FGGGTKVEIK  \n",
       "7  ILLISGLQSEDEADYYC     MIWHSSAWV   FGGGTKLTVL  "
      ]
     },
     "execution_count": 6,
     "metadata": {},
     "output_type": "execute_result"
    }
   ],
   "source": [
    "light_chain_df = pd.DataFrame.from_dict(light_chains_dict, orient='index', columns=['light_chain']).reset_index().rename(columns={'index': 'pdb_id'})\n",
    "aho_light_chains = get_loop_regions(light_chain_df, heavy_chain_key=None, light_chain_key='light_chain')\n",
    "aho_light_chains"
   ]
  },
  {
   "cell_type": "code",
   "execution_count": null,
   "id": "93a73ba1",
   "metadata": {},
   "outputs": [],
   "source": [
    "# mask_out_values = {\n",
    "#     '3gbn_h1': 7.0,\n",
    "#     '3gbn_h9': 7.0,\n",
    "#     '4fqi_h3': 6.0,\n",
    "#     '4fqi_h1': 7.0,\n",
    "# } # these values are used to denote non binders? we discard them for regression tasks\n",
    "\n",
    "# for fname in os.listdir(DATA_DIR):\n",
    "#     if not fname.endswith(\"_benchmarking_data.csv\"):\n",
    "#         continue\n",
    "#     fname_path = os.path.join(DATA_DIR, fname)\n",
    "\n",
    "#     df = pd.read_csv(fname_path)\n",
    "#     seed = fname.replace(\"_benchmarking_data.csv\", \"\")\n",
    "#     if seed in mask_out_values:\n",
    "#         df = df[df['binding_score'] != mask_out_values[seed]]\n",
    "    \n",
    "#     df['fv_light'] = light_chains_dict[seed.split(\"_\")[0]]\n",
    "\n",
    "#     df_loops = pd.read_csv(fname_path.replace('.csv', '_loops.csv'))\n",
    "#     # df_loops = get_loop_regions(df, heavy_chain_key='mut_heavy_chain_seq', light_chain_key=None)\n",
    "#     df = df[['mut_heavy_chain_seq', 'fv_light']].merge(df_loops, on='mut_heavy_chain_seq', how='left')\n",
    "#     df.rename(columns={'mut_heavy_chain_seq': 'fv_heavy'}, inplace=True)\n",
    "\n",
    "#     df.to_csv(fname_path.replace('.csv', '_loops.csv'), index=False)\n",
    "#     print(f\"Processed {fname} (N={len(df)}) and saved loop regions to {fname_path.replace('.csv', '_loops.csv')}\")"
   ]
  },
  {
   "cell_type": "code",
   "execution_count": null,
   "id": "bc962d86",
   "metadata": {},
   "outputs": [],
   "source": [
    "# for fname in os.listdir(DATA_DIR):\n",
    "#     if not fname.endswith(\"benchmarking_data_loops.csv\"):\n",
    "#         continue\n",
    "#     fname_path = os.path.join(DATA_DIR, fname)\n",
    "#     df = pd.read_csv(fname_path)\n",
    "#     df['ibex_file'] = [f\"output_{i}\" for i in range(len(df))]\n",
    "#     df = df.merge(aho_light_chains[['light_chain', 'aho_light']], left_on='fv_light', right_on='light_chain', how='left')\n",
    "#     df.drop(columns=['light_chain'], inplace=True)\n",
    "#     df.to_csv(fname_path, index=False)"
   ]
  },
  {
   "cell_type": "code",
   "execution_count": null,
   "id": "c814e106",
   "metadata": {},
   "outputs": [],
   "source": [
    "for fname in os.listdir(DATA_DIR):\n",
    "    if not fname.endswith(\"benchmarking_data_loops.csv\"):\n",
    "        continue\n",
    "\n",
    "    seed = fname.replace(\"_benchmarking_data_loops.csv\", \"\")\n",
    "    parquet_path = f'benchmarking_data/AbiBench/ibex_structures/{seed}_loop_angles.parquet'\n",
    "    if not os.path.exists(parquet_path):\n",
    "        print(f\"Skipping {fname} because {parquet_path} does not exist\")\n",
    "        continue\n",
    "    df_loops = pd.read_parquet(parquet_path)\n",
    "    df_loops['chain'] = df_loops['loop_type'].str[0]\n",
    "    df_loops['phi'] = df_loops['phi'].apply(lambda x: np.concatenate([np.zeros(1), x, np.zeros(36 - len(x) - 1)]))\n",
    "    df_loops['psi'] = df_loops['psi'].apply(lambda x: np.concatenate([np.zeros(1), x, np.zeros(36 - len(x) - 1)]))\n",
    "    df_loops['omega'] = df_loops['omega'].apply(lambda x: np.concatenate([np.zeros(1), x, np.zeros(36 - len(x) - 1)])) # start is cls, end is eos, padding zeros\n",
    "    df_loops['angles'] = df_loops.apply(lambda row: np.stack([row['phi'], row['psi'], row['omega']], axis=1), axis=1) # shape (36, 3)\n",
    "    df_loops['angles'] = df_loops['angles'].apply(lambda x: x.tolist())\n",
    "    agg_loops = (\n",
    "        df_loops\n",
    "            .groupby([\"ibex_file\", \"chain\"], as_index=False)\n",
    "            .agg(angles=(\"angles\", lambda s: np.stack(s.to_numpy())))\n",
    "    )\n",
    "    agg_loops['angles'] = agg_loops['angles'].apply(lambda x: x.tolist())  # Convert numpy arrays to lists for parquet compatibility\n",
    "\n",
    "    df = pd.read_csv(os.path.join(DATA_DIR, fname))\n",
    "    df = df.merge(agg_loops[agg_loops['chain'] == 'H'][['ibex_file', 'angles']], left_on='ibex_file', right_on='ibex_file', how='inner')\n",
    "    df.to_parquet(os.path.join(DATA_DIR, fname.replace('.csv', '_and_angles.parquet')), index=False)"
   ]
  },
  {
   "cell_type": "code",
   "execution_count": null,
   "id": "df20fe28",
   "metadata": {},
   "outputs": [
    {
     "name": "stdout",
     "output_type": "stream",
     "text": [
      "4fqi_h1 (63419, 1024)\n"
     ]
    }
   ],
   "source": [
    "import h5py\n",
    "\n",
    "for seed in [\"1mlc\", \"aayl51\", \"4fqi_h3\", \"3gbn_h1\", \"2fjg\", \"1n8z\", \"aayl49\", \"aayl49_ML\", \"1mhp\", \"3gbn_h9\", \"4fqi_h1\"]:\n",
    "    loop_df = pd.read_csv(os.path.join(DATA_DIR, f\"{seed}_benchmarking_data_loops.csv\"))\n",
    "    embeddings = []\n",
    "    if not os.path.exists(os.path.join(DATA_DIR, f\"prostt5/{seed}_embeddings.h5\")):\n",
    "        print(f\"Skipping {seed} because {os.path.join(DATA_DIR, f'prostt5/{seed}_embeddings.h5')} does not exist\")\n",
    "        continue\n",
    "    with h5py.File(os.path.join(DATA_DIR, f\"prostt5/{seed}_embeddings.h5\"), \"r\") as f:\n",
    "        for ibex_file in loop_df['ibex_file'].values:\n",
    "            embeddings.append(f[f\"{ibex_file}_H\"][:])\n",
    "    embeddings = np.array(embeddings)\n",
    "    print(seed, embeddings.shape)\n",
    "    np.save(os.path.join(DATA_DIR, f\"prostt5/{seed}_embeddings.npy\"), embeddings)"
   ]
  },
  {
   "cell_type": "code",
   "execution_count": 60,
   "id": "e5eda3e5",
   "metadata": {},
   "outputs": [
    {
     "data": {
      "image/png": "[encoded data removed]",
      "text/plain": [
       "<Figure size 2000x500 with 12 Axes>"
      ]
     },
     "metadata": {},
     "output_type": "display_data"
    }
   ],
   "source": [
    "fig, axes = plt.subplots(2,6, figsize=(20, 5))\n",
    "for i, fname in enumerate(glob(f\"{DATA_DIR}/*_loops.csv\")):\n",
    "    basename = os.path.basename(fname).replace(\"_benchmarking_data_loops.csv\", \"\")\n",
    "    axes[i // 6, i % 6].set_title(f'{basename} (N={len(pd.read_csv(fname))})')\n",
    "    df_loops = pd.read_csv(fname)\n",
    "    axes[i // 6, i % 6].hist(df_loops['binding_score'], bins=50)\n",
    "plt.tight_layout()\n",
    "plt.show()"
   ]
  },
  {
   "cell_type": "code",
   "execution_count": 24,
   "id": "32e9d424",
   "metadata": {},
   "outputs": [
    {
     "name": "stdout",
     "output_type": "stream",
     "text": [
      "################2fjg_benchmarking_data_loops.csv################\n",
      "H1 248 H2 191 H3 248 H4 153 HFW1 400 HFW2 267 HFW3 229 HFW4 324 \n",
      "################aayl49_benchmarking_data_loops.csv################\n",
      "H1 826 H2 529 H3 959 H4 1 HFW1 1 HFW2 1 HFW3 367 HFW4 1 \n",
      "################aayl51_benchmarking_data_loops.csv################\n",
      "H1 821 H2 750 H3 972 H4 1 HFW1 1 HFW2 1 HFW3 362 HFW4 1 \n",
      "################1mlc_benchmarking_data_loops.csv################\n",
      "H1 226 H2 159 H3 133 H4 95 HFW1 55 HFW2 222 HFW3 209 HFW4 55 \n",
      "################1mhp_benchmarking_data_loops.csv################\n",
      "H1 9 H2 15 H3 8 H4 1 HFW1 1 HFW2 1 HFW3 7 HFW4 1 \n",
      "################1n8z_benchmarking_data_loops.csv################\n",
      "H1 7 H2 14 H3 416 H4 1 HFW1 1 HFW2 1 HFW3 1 HFW4 1 \n",
      "################4fqi_h3_benchmarking_data_loops.csv################\n",
      "H1 8 H2 16 H3 2 H4 16 HFW1 1 HFW2 1 HFW3 2 HFW4 8 \n",
      "################4fqi_h1_benchmarking_data_loops.csv################\n",
      "H1 8 H2 16 H3 2 H4 16 HFW1 1 HFW2 1 HFW3 2 HFW4 8 \n",
      "################3gbn_h1_benchmarking_data_loops.csv################\n",
      "H1 4 H2 4 H3 2 H4 32 HFW1 1 HFW2 1 HFW3 2 HFW4 1 \n",
      "################3gbn_h9_benchmarking_data_loops.csv################\n",
      "H1 4 H2 4 H3 2 H4 32 HFW1 1 HFW2 1 HFW3 2 HFW4 1 \n",
      "################aayl49_ML_benchmarking_data_loops.csv################\n",
      "H1 576 H2 302 H3 1510 H4 1 HFW1 1 HFW2 1 HFW3 293 HFW4 1 \n"
     ]
    }
   ],
   "source": [
    "for fname in glob(f\"{DATA_DIR}/*_loops.csv\"):\n",
    "    loops_sequences = []\n",
    "    loops_ids = []\n",
    "    df_loops = pd.read_csv(fname)\n",
    "    print(f\"################{os.path.basename(fname)}################\")\n",
    "    for loop_type in ['H1', 'H2', 'H3', 'H4', 'HFW1', 'HFW2', 'HFW3', 'HFW4']:\n",
    "        if loop_type not in df_loops.columns:\n",
    "            continue\n",
    "        print(loop_type, df_loops[loop_type].nunique(), end=' ')\n",
    "\n",
    "        if loop_type in ['H1', 'H2', 'H3', 'H4']:\n",
    "            loops_sequences.extend(df_loops[loop_type])\n",
    "            loops_ids.extend([f\"{i}_{loop_type}\" for i in df_loops.index])\n",
    "    print()\n",
    "    loops_df = pd.DataFrame({'loop_id': loops_ids, 'loop_sequence': loops_sequences})\n",
    "    loops_df.to_csv(fname.replace('_loops.csv', '_loop_cdrcluster_input.csv'), index=False)"
   ]
  },
  {
   "cell_type": "markdown",
   "id": "becc7a2d",
   "metadata": {},
   "source": [
    "# Run regression"
   ]
  },
  {
   "cell_type": "code",
   "execution_count": 27,
   "id": "ad939fc9",
   "metadata": {},
   "outputs": [
    {
     "name": "stdout",
     "output_type": "stream",
     "text": [
      "X_full shape: (4312, 1024) (4312, 1024) (4312, 1024) (4312, 1024) (4312, 960), y_full shape: (4312,)\n"
     ]
    }
   ],
   "source": [
    "item_id = 'aayl49'\n",
    "binding_scores_path = f'{DATA_DIR}/{item_id}_benchmarking_data.csv'\n",
    "binding_scores_df = pd.read_csv(binding_scores_path)\n",
    "\n",
    "cdrcluster_path = f'{DATA_DIR}/{item_id}_benchmarking_data_cdrcluster_output_v220.parquet'\n",
    "cdrcluster_df = pd.read_parquet(cdrcluster_path)\n",
    "\n",
    "esmc_path = f\"{DATA_DIR}/ESMC/{item_id}_esmc_embeddings.npy\"\n",
    "esmc_embeddings = np.load(esmc_path)\n",
    "\n",
    "igbert_embeddings_path = f\"{DATA_DIR}/IgBert/continue_finetune_igbert_v16/{item_id}_benchmarking_data_igbert.npy\"\n",
    "igbert_embeddings = np.load(igbert_embeddings_path)\n",
    "\n",
    "plm_embeddings_path = f'{DATA_DIR}/IgBert/baseline/{item_id}_benchmarking_data_igbert.npy'\n",
    "plm_embeddings = np.load(plm_embeddings_path)\n",
    "\n",
    "no_igloo_embeddings_path = f'{DATA_DIR}/IgBert/no_igloo_v14/{item_id}_benchmarking_data_igbert.npy'\n",
    "no_igloo_embeddings = np.load(no_igloo_embeddings_path)\n",
    "\n",
    "with_igloo_embeddings_path = f'{DATA_DIR}/IgBert/with_igloo_v52/{item_id}_benchmarking_data_igbert.npy'\n",
    "with_igloo_embeddings = np.load(with_igloo_embeddings_path)\n",
    "\n",
    "y_full = binding_scores_df['binding_score'].values\n",
    "\n",
    "mask_out_values = {\n",
    "    '3gbn_h1': 7.0,\n",
    "    '3gbn_h9': 7.0,\n",
    "}\n",
    "\n",
    "if item_id in mask_out_values:\n",
    "    mask = binding_scores_df['binding_score'] != mask_out_values[item_id]\n",
    "    print(f\"Masking out (N={np.sum(~mask)}) binding scores equal to {mask_out_values[item_id]}\")\n",
    "    y_full = y_full[mask]\n",
    "    plm_embeddings = plm_embeddings[mask]\n",
    "    igbert_embeddings = igbert_embeddings[mask]\n",
    "    no_igloo_embeddings = no_igloo_embeddings[mask]\n",
    "    with_igloo_embeddings = with_igloo_embeddings[mask]\n",
    "    esmc_embeddings = esmc_embeddings[mask]\n",
    "else:\n",
    "    mask = np.ones(len(y_full), dtype=bool)\n",
    "    \n",
    "y_full = StandardScaler().fit_transform(y_full.reshape(-1, 1)).flatten()\n",
    "\n",
    "print(f\"X_full shape: {plm_embeddings.shape} {igbert_embeddings.shape} {no_igloo_embeddings.shape} {with_igloo_embeddings.shape} {esmc_embeddings.shape}, y_full shape: {y_full.shape}\")"
   ]
  },
  {
   "cell_type": "code",
   "execution_count": 28,
   "id": "e8eb06ba",
   "metadata": {},
   "outputs": [
    {
     "name": "stdout",
     "output_type": "stream",
     "text": [
      "X_full shape: (4312, 1536)\n"
     ]
    }
   ],
   "source": [
    "if cdrcluster_df['id'].str.contains('HFW').sum() > 0:\n",
    "    print(\"Removing HFW loops from cdrcluster_df\")\n",
    "    # Remove HFW loops from the cdrcluster_df\n",
    "    cdrcluster_df = cdrcluster_df[~cdrcluster_df['id'].str.contains('HFW')]\n",
    "cdrcluster_df['sequence_id'] = cdrcluster_df['id'].str.split('_').str[0].astype(int)\n",
    "cdrcluster_df['loop_type'] = cdrcluster_df['id'].str.split('_').str[1]\n",
    "loop_tokens = cdrcluster_df.groupby('sequence_id').agg(\n",
    "    encoded=('encoded', lambda x: np.array(list(x)).flatten()),\n",
    "    quantized=('quantized', lambda x: np.array(list(x)).flatten()),\n",
    "    quantized_indices=('quantized_indices', list)).sort_index()\n",
    "\n",
    "X_encoded_only = np.stack(loop_tokens['encoded'].values)[mask]\n",
    "X_quantized_full = np.concatenate((plm_embeddings,np.stack(loop_tokens['quantized'].values)[mask]), axis=1)\n",
    "X_full = np.concatenate((plm_embeddings, X_encoded_only), axis=1)\n",
    "print(f\"X_full shape: {X_full.shape}\")"
   ]
  },
  {
   "cell_type": "code",
   "execution_count": 14,
   "id": "b14bc516",
   "metadata": {},
   "outputs": [
    {
     "name": "stderr",
     "output_type": "stream",
     "text": [
      "Outer CV Folds: 100%|██████████| 10/10 [00:01<00:00,  7.40it/s]"
     ]
    },
    {
     "name": "stdout",
     "output_type": "stream",
     "text": [
      "\n",
      "--- Cross-Validation Complete ---\n",
      "Average Test Loss across 10 folds: 0.4960, std: 0.1230\n",
      "Average R2 Score across 10 folds: 0.4906, std: 0.0640\n",
      "Average Test Pearson Correlation across 10 folds: 0.7171, std: 0.0442\n",
      "Average Test Spearman Correlation across 10 folds: 0.6733, std: 0.0697\n"
     ]
    },
    {
     "name": "stderr",
     "output_type": "stream",
     "text": [
      "\n"
     ]
    }
   ],
   "source": [
    "res_without_cdrcluster = train_regression_model(esmc_embeddings, y_full, pca_components=plm_embeddings.shape[1], verbose=False)"
   ]
  },
  {
   "cell_type": "code",
   "execution_count": 29,
   "id": "d28cf63c",
   "metadata": {},
   "outputs": [
    {
     "name": "stderr",
     "output_type": "stream",
     "text": [
      "Outer CV Folds: 100%|██████████| 10/10 [09:51<00:00, 59.18s/it]"
     ]
    },
    {
     "name": "stdout",
     "output_type": "stream",
     "text": [
      "\n",
      "--- Cross-Validation Complete ---\n",
      "Average Test Loss across 10 folds: 0.6512, std: 0.1247\n",
      "Average R2 Score across 10 folds: 0.3438, std: 0.0387\n",
      "Average Test Pearson Correlation across 10 folds: 0.5977, std: 0.0253\n",
      "Average Test Spearman Correlation across 10 folds: 0.6281, std: 0.0296\n"
     ]
    },
    {
     "name": "stderr",
     "output_type": "stream",
     "text": [
      "\n"
     ]
    }
   ],
   "source": [
    "res_without_cdrcluster = train_regression_model(igbert_embeddings, y_full, pca_components=plm_embeddings.shape[1], verbose=False)"
   ]
  },
  {
   "cell_type": "code",
   "execution_count": 33,
   "id": "69aff399",
   "metadata": {},
   "outputs": [
    {
     "name": "stderr",
     "output_type": "stream",
     "text": [
      "Outer CV Folds: 100%|██████████| 10/10 [16:14<00:00, 97.47s/it] "
     ]
    },
    {
     "name": "stdout",
     "output_type": "stream",
     "text": [
      "\n",
      "--- Cross-Validation Complete ---\n",
      "Average Test Loss across 10 folds: 0.6669, std: 0.1311\n",
      "Average R2 Score across 10 folds: 0.3289, std: 0.0367\n",
      "Average Test Pearson Correlation across 10 folds: 0.5804, std: 0.0280\n",
      "Average Test Spearman Correlation across 10 folds: 0.6112, std: 0.0320\n"
     ]
    },
    {
     "name": "stderr",
     "output_type": "stream",
     "text": [
      "\n"
     ]
    }
   ],
   "source": [
    "res_without_cdrcluster = train_regression_model(plm_embeddings, y_full, pca_components=plm_embeddings.shape[1], verbose=False)"
   ]
  },
  {
   "cell_type": "code",
   "execution_count": 30,
   "id": "34a452ce",
   "metadata": {},
   "outputs": [
    {
     "name": "stderr",
     "output_type": "stream",
     "text": [
      "Outer CV Folds: 100%|██████████| 10/10 [11:40<00:00, 70.06s/it]"
     ]
    },
    {
     "name": "stdout",
     "output_type": "stream",
     "text": [
      "\n",
      "--- Cross-Validation Complete ---\n",
      "Average Test Loss across 10 folds: 0.6561, std: 0.1270\n",
      "Average R2 Score across 10 folds: 0.3391, std: 0.0399\n",
      "Average Test Pearson Correlation across 10 folds: 0.5938, std: 0.0252\n",
      "Average Test Spearman Correlation across 10 folds: 0.6287, std: 0.0343\n"
     ]
    },
    {
     "name": "stderr",
     "output_type": "stream",
     "text": [
      "\n"
     ]
    }
   ],
   "source": [
    "res_without_cdrcluster = train_regression_model(with_igloo_embeddings, y_full, pca_components=plm_embeddings.shape[1], verbose=False)"
   ]
  },
  {
   "cell_type": "code",
   "execution_count": 32,
   "id": "26a9f093",
   "metadata": {},
   "outputs": [
    {
     "name": "stderr",
     "output_type": "stream",
     "text": [
      "Outer CV Folds: 100%|██████████| 10/10 [14:56<00:00, 89.64s/it]"
     ]
    },
    {
     "name": "stdout",
     "output_type": "stream",
     "text": [
      "\n",
      "--- Cross-Validation Complete ---\n",
      "Average Test Loss across 10 folds: 0.6521, std: 0.1357\n",
      "Average R2 Score across 10 folds: 0.3441, std: 0.0466\n",
      "Average Test Pearson Correlation across 10 folds: 0.5981, std: 0.0297\n",
      "Average Test Spearman Correlation across 10 folds: 0.6308, std: 0.0320\n"
     ]
    },
    {
     "name": "stderr",
     "output_type": "stream",
     "text": [
      "\n"
     ]
    }
   ],
   "source": [
    "res_with_cdrcluster = train_regression_model(no_igloo_embeddings, y_full, pca_components=no_igloo_embeddings.shape[1], verbose=False)"
   ]
  },
  {
   "cell_type": "code",
   "execution_count": 104,
   "id": "898001b5",
   "metadata": {},
   "outputs": [
    {
     "name": "stderr",
     "output_type": "stream",
     "text": [
      "Outer CV Folds:  40%|████      | 4/10 [01:20<02:01, 20.21s/it]\n"
     ]
    },
    {
     "ename": "KeyboardInterrupt",
     "evalue": "",
     "output_type": "error",
     "traceback": [
      "\u001b[31m---------------------------------------------------------------------------\u001b[39m",
      "\u001b[31mKeyboardInterrupt\u001b[39m                         Traceback (most recent call last)",
      "\u001b[36mCell\u001b[39m\u001b[36m \u001b[39m\u001b[32mIn[104]\u001b[39m\u001b[32m, line 1\u001b[39m\n\u001b[32m----> \u001b[39m\u001b[32m1\u001b[39m res_with_cdrcluster = \u001b[43mtrain_regression_model\u001b[49m\u001b[43m(\u001b[49m\u001b[43mX_full\u001b[49m\u001b[43m,\u001b[49m\u001b[43m \u001b[49m\u001b[43my_full\u001b[49m\u001b[43m,\u001b[49m\u001b[43m \u001b[49m\u001b[43mpca_components\u001b[49m\u001b[43m=\u001b[49m\u001b[43mX_full\u001b[49m\u001b[43m.\u001b[49m\u001b[43mshape\u001b[49m\u001b[43m[\u001b[49m\u001b[32;43m1\u001b[39;49m\u001b[43m]\u001b[49m\u001b[43m,\u001b[49m\u001b[43m \u001b[49m\u001b[43mverbose\u001b[49m\u001b[43m=\u001b[49m\u001b[38;5;28;43;01mFalse\u001b[39;49;00m\u001b[43m)\u001b[49m\n",
      "\u001b[36mFile \u001b[39m\u001b[32m~/cdrcluster/regression/ridge_regression_task.py:156\u001b[39m, in \u001b[36mtrain_regression_model\u001b[39m\u001b[34m(X_full, y_full, seed, use_wandb, pca_components, verbose)\u001b[39m\n\u001b[32m    153\u001b[39m \u001b[38;5;28;01mfor\u001b[39;00m current_lambda \u001b[38;5;129;01min\u001b[39;00m lambda_values:\n\u001b[32m    154\u001b[39m     \u001b[38;5;66;03m# Use scikit-learn Ridge model\u001b[39;00m\n\u001b[32m    155\u001b[39m     model_inner = Ridge(alpha=current_lambda, random_state=seed)\n\u001b[32m--> \u001b[39m\u001b[32m156\u001b[39m     \u001b[43mmodel_inner\u001b[49m\u001b[43m.\u001b[49m\u001b[43mfit\u001b[49m\u001b[43m(\u001b[49m\u001b[43mX_train_inner\u001b[49m\u001b[43m,\u001b[49m\u001b[43m \u001b[49m\u001b[43my_train_inner\u001b[49m\u001b[43m)\u001b[49m\n\u001b[32m    158\u001b[39m     y_pred_inner = model_inner.predict(X_val_inner)\n\u001b[32m    159\u001b[39m     val_loss_inner = mean_squared_error(y_val_inner, y_pred_inner)\n",
      "\u001b[36mFile \u001b[39m\u001b[32m~/micromamba/envs/pyenv/lib/python3.11/site-packages/sklearn/base.py:1363\u001b[39m, in \u001b[36m_fit_context.<locals>.decorator.<locals>.wrapper\u001b[39m\u001b[34m(estimator, *args, **kwargs)\u001b[39m\n\u001b[32m   1356\u001b[39m     estimator._validate_params()\n\u001b[32m   1358\u001b[39m \u001b[38;5;28;01mwith\u001b[39;00m config_context(\n\u001b[32m   1359\u001b[39m     skip_parameter_validation=(\n\u001b[32m   1360\u001b[39m         prefer_skip_nested_validation \u001b[38;5;129;01mor\u001b[39;00m global_skip_validation\n\u001b[32m   1361\u001b[39m     )\n\u001b[32m   1362\u001b[39m ):\n\u001b[32m-> \u001b[39m\u001b[32m1363\u001b[39m     \u001b[38;5;28;01mreturn\u001b[39;00m \u001b[43mfit_method\u001b[49m\u001b[43m(\u001b[49m\u001b[43mestimator\u001b[49m\u001b[43m,\u001b[49m\u001b[43m \u001b[49m\u001b[43m*\u001b[49m\u001b[43margs\u001b[49m\u001b[43m,\u001b[49m\u001b[43m \u001b[49m\u001b[43m*\u001b[49m\u001b[43m*\u001b[49m\u001b[43mkwargs\u001b[49m\u001b[43m)\u001b[49m\n",
      "\u001b[36mFile \u001b[39m\u001b[32m~/micromamba/envs/pyenv/lib/python3.11/site-packages/sklearn/linear_model/_ridge.py:1248\u001b[39m, in \u001b[36mRidge.fit\u001b[39m\u001b[34m(self, X, y, sample_weight)\u001b[39m\n\u001b[32m   1237\u001b[39m xp, _ = get_namespace(X, y, sample_weight)\n\u001b[32m   1238\u001b[39m X, y = validate_data(\n\u001b[32m   1239\u001b[39m     \u001b[38;5;28mself\u001b[39m,\n\u001b[32m   1240\u001b[39m     X,\n\u001b[32m   (...)\u001b[39m\u001b[32m   1246\u001b[39m     y_numeric=\u001b[38;5;28;01mTrue\u001b[39;00m,\n\u001b[32m   1247\u001b[39m )\n\u001b[32m-> \u001b[39m\u001b[32m1248\u001b[39m \u001b[38;5;28;01mreturn\u001b[39;00m \u001b[38;5;28;43msuper\u001b[39;49m\u001b[43m(\u001b[49m\u001b[43m)\u001b[49m\u001b[43m.\u001b[49m\u001b[43mfit\u001b[49m\u001b[43m(\u001b[49m\u001b[43mX\u001b[49m\u001b[43m,\u001b[49m\u001b[43m \u001b[49m\u001b[43my\u001b[49m\u001b[43m,\u001b[49m\u001b[43m \u001b[49m\u001b[43msample_weight\u001b[49m\u001b[43m=\u001b[49m\u001b[43msample_weight\u001b[49m\u001b[43m)\u001b[49m\n",
      "\u001b[36mFile \u001b[39m\u001b[32m~/micromamba/envs/pyenv/lib/python3.11/site-packages/sklearn/linear_model/_ridge.py:990\u001b[39m, in \u001b[36m_BaseRidge.fit\u001b[39m\u001b[34m(self, X, y, sample_weight)\u001b[39m\n\u001b[32m    986\u001b[39m     \u001b[38;5;28;01melse\u001b[39;00m:\n\u001b[32m    987\u001b[39m         \u001b[38;5;66;03m# for dense matrices or when intercept is set to 0\u001b[39;00m\n\u001b[32m    988\u001b[39m         params = {}\n\u001b[32m--> \u001b[39m\u001b[32m990\u001b[39m     \u001b[38;5;28mself\u001b[39m.coef_, \u001b[38;5;28mself\u001b[39m.n_iter_, \u001b[38;5;28mself\u001b[39m.solver_ = \u001b[43m_ridge_regression\u001b[49m\u001b[43m(\u001b[49m\n\u001b[32m    991\u001b[39m \u001b[43m        \u001b[49m\u001b[43mX\u001b[49m\u001b[43m,\u001b[49m\n\u001b[32m    992\u001b[39m \u001b[43m        \u001b[49m\u001b[43my\u001b[49m\u001b[43m,\u001b[49m\n\u001b[32m    993\u001b[39m \u001b[43m        \u001b[49m\u001b[43malpha\u001b[49m\u001b[43m=\u001b[49m\u001b[38;5;28;43mself\u001b[39;49m\u001b[43m.\u001b[49m\u001b[43malpha\u001b[49m\u001b[43m,\u001b[49m\n\u001b[32m    994\u001b[39m \u001b[43m        \u001b[49m\u001b[43msample_weight\u001b[49m\u001b[43m=\u001b[49m\u001b[43msample_weight\u001b[49m\u001b[43m,\u001b[49m\n\u001b[32m    995\u001b[39m \u001b[43m        \u001b[49m\u001b[43mmax_iter\u001b[49m\u001b[43m=\u001b[49m\u001b[38;5;28;43mself\u001b[39;49m\u001b[43m.\u001b[49m\u001b[43mmax_iter\u001b[49m\u001b[43m,\u001b[49m\n\u001b[32m    996\u001b[39m \u001b[43m        \u001b[49m\u001b[43mtol\u001b[49m\u001b[43m=\u001b[49m\u001b[38;5;28;43mself\u001b[39;49m\u001b[43m.\u001b[49m\u001b[43mtol\u001b[49m\u001b[43m,\u001b[49m\n\u001b[32m    997\u001b[39m \u001b[43m        \u001b[49m\u001b[43msolver\u001b[49m\u001b[43m=\u001b[49m\u001b[43msolver\u001b[49m\u001b[43m,\u001b[49m\n\u001b[32m    998\u001b[39m \u001b[43m        \u001b[49m\u001b[43mpositive\u001b[49m\u001b[43m=\u001b[49m\u001b[38;5;28;43mself\u001b[39;49m\u001b[43m.\u001b[49m\u001b[43mpositive\u001b[49m\u001b[43m,\u001b[49m\n\u001b[32m    999\u001b[39m \u001b[43m        \u001b[49m\u001b[43mrandom_state\u001b[49m\u001b[43m=\u001b[49m\u001b[38;5;28;43mself\u001b[39;49m\u001b[43m.\u001b[49m\u001b[43mrandom_state\u001b[49m\u001b[43m,\u001b[49m\n\u001b[32m   1000\u001b[39m \u001b[43m        \u001b[49m\u001b[43mreturn_n_iter\u001b[49m\u001b[43m=\u001b[49m\u001b[38;5;28;43;01mTrue\u001b[39;49;00m\u001b[43m,\u001b[49m\n\u001b[32m   1001\u001b[39m \u001b[43m        \u001b[49m\u001b[43mreturn_intercept\u001b[49m\u001b[43m=\u001b[49m\u001b[38;5;28;43;01mFalse\u001b[39;49;00m\u001b[43m,\u001b[49m\n\u001b[32m   1002\u001b[39m \u001b[43m        \u001b[49m\u001b[43mreturn_solver\u001b[49m\u001b[43m=\u001b[49m\u001b[38;5;28;43;01mTrue\u001b[39;49;00m\u001b[43m,\u001b[49m\n\u001b[32m   1003\u001b[39m \u001b[43m        \u001b[49m\u001b[43mcheck_input\u001b[49m\u001b[43m=\u001b[49m\u001b[38;5;28;43;01mFalse\u001b[39;49;00m\u001b[43m,\u001b[49m\n\u001b[32m   1004\u001b[39m \u001b[43m        \u001b[49m\u001b[43mfit_intercept\u001b[49m\u001b[43m=\u001b[49m\u001b[38;5;28;43mself\u001b[39;49m\u001b[43m.\u001b[49m\u001b[43mfit_intercept\u001b[49m\u001b[43m,\u001b[49m\n\u001b[32m   1005\u001b[39m \u001b[43m        \u001b[49m\u001b[43m*\u001b[49m\u001b[43m*\u001b[49m\u001b[43mparams\u001b[49m\u001b[43m,\u001b[49m\n\u001b[32m   1006\u001b[39m \u001b[43m    \u001b[49m\u001b[43m)\u001b[49m\n\u001b[32m   1007\u001b[39m     \u001b[38;5;28mself\u001b[39m._set_intercept(X_offset, y_offset, X_scale)\n\u001b[32m   1009\u001b[39m \u001b[38;5;28;01mreturn\u001b[39;00m \u001b[38;5;28mself\u001b[39m\n",
      "\u001b[36mFile \u001b[39m\u001b[32m~/micromamba/envs/pyenv/lib/python3.11/site-packages/sklearn/linear_model/_ridge.py:749\u001b[39m, in \u001b[36m_ridge_regression\u001b[39m\u001b[34m(X, y, alpha, sample_weight, solver, max_iter, tol, verbose, positive, random_state, return_n_iter, return_intercept, return_solver, X_scale, X_offset, check_input, fit_intercept)\u001b[39m\n\u001b[32m    747\u001b[39m \u001b[38;5;28;01melse\u001b[39;00m:\n\u001b[32m    748\u001b[39m     \u001b[38;5;28;01mtry\u001b[39;00m:\n\u001b[32m--> \u001b[39m\u001b[32m749\u001b[39m         coef = \u001b[43m_solve_cholesky\u001b[49m\u001b[43m(\u001b[49m\u001b[43mX\u001b[49m\u001b[43m,\u001b[49m\u001b[43m \u001b[49m\u001b[43my\u001b[49m\u001b[43m,\u001b[49m\u001b[43m \u001b[49m\u001b[43malpha\u001b[49m\u001b[43m)\u001b[49m\n\u001b[32m    750\u001b[39m     \u001b[38;5;28;01mexcept\u001b[39;00m linalg.LinAlgError:\n\u001b[32m    751\u001b[39m         \u001b[38;5;66;03m# use SVD solver if matrix is singular\u001b[39;00m\n\u001b[32m    752\u001b[39m         solver = \u001b[33m\"\u001b[39m\u001b[33msvd\u001b[39m\u001b[33m\"\u001b[39m\n",
      "\u001b[36mFile \u001b[39m\u001b[32m~/micromamba/envs/pyenv/lib/python3.11/site-packages/sklearn/linear_model/_ridge.py:206\u001b[39m, in \u001b[36m_solve_cholesky\u001b[39m\u001b[34m(X, y, alpha)\u001b[39m\n\u001b[32m    203\u001b[39m n_features = X.shape[\u001b[32m1\u001b[39m]\n\u001b[32m    204\u001b[39m n_targets = y.shape[\u001b[32m1\u001b[39m]\n\u001b[32m--> \u001b[39m\u001b[32m206\u001b[39m A = \u001b[43msafe_sparse_dot\u001b[49m\u001b[43m(\u001b[49m\u001b[43mX\u001b[49m\u001b[43m.\u001b[49m\u001b[43mT\u001b[49m\u001b[43m,\u001b[49m\u001b[43m \u001b[49m\u001b[43mX\u001b[49m\u001b[43m,\u001b[49m\u001b[43m \u001b[49m\u001b[43mdense_output\u001b[49m\u001b[43m=\u001b[49m\u001b[38;5;28;43;01mTrue\u001b[39;49;00m\u001b[43m)\u001b[49m\n\u001b[32m    207\u001b[39m Xy = safe_sparse_dot(X.T, y, dense_output=\u001b[38;5;28;01mTrue\u001b[39;00m)\n\u001b[32m    209\u001b[39m one_alpha = np.array_equal(alpha, \u001b[38;5;28mlen\u001b[39m(alpha) * [alpha[\u001b[32m0\u001b[39m]])\n",
      "\u001b[36mFile \u001b[39m\u001b[32m~/micromamba/envs/pyenv/lib/python3.11/site-packages/sklearn/utils/extmath.py:206\u001b[39m, in \u001b[36msafe_sparse_dot\u001b[39m\u001b[34m(a, b, dense_output)\u001b[39m\n\u001b[32m    202\u001b[39m \u001b[38;5;28;01melse\u001b[39;00m:\n\u001b[32m    203\u001b[39m     ret = a @ b\n\u001b[32m    205\u001b[39m \u001b[38;5;28;01mif\u001b[39;00m (\n\u001b[32m--> \u001b[39m\u001b[32m206\u001b[39m     \u001b[43msparse\u001b[49m\u001b[43m.\u001b[49m\u001b[43missparse\u001b[49m\u001b[43m(\u001b[49m\u001b[43ma\u001b[49m\u001b[43m)\u001b[49m\n\u001b[32m    207\u001b[39m     \u001b[38;5;129;01mand\u001b[39;00m sparse.issparse(b)\n\u001b[32m    208\u001b[39m     \u001b[38;5;129;01mand\u001b[39;00m dense_output\n\u001b[32m    209\u001b[39m     \u001b[38;5;129;01mand\u001b[39;00m \u001b[38;5;28mhasattr\u001b[39m(ret, \u001b[33m\"\u001b[39m\u001b[33mtoarray\u001b[39m\u001b[33m\"\u001b[39m)\n\u001b[32m    210\u001b[39m ):\n\u001b[32m    211\u001b[39m     \u001b[38;5;28;01mreturn\u001b[39;00m ret.toarray()\n\u001b[32m    212\u001b[39m \u001b[38;5;28;01mreturn\u001b[39;00m ret\n",
      "\u001b[36mFile \u001b[39m\u001b[32m~/micromamba/envs/pyenv/lib/python3.11/site-packages/scipy/sparse/_base.py:1401\u001b[39m, in \u001b[36missparse\u001b[39m\u001b[34m(x)\u001b[39m\n\u001b[32m   1395\u001b[39m \u001b[38;5;250m    \u001b[39m\u001b[33;03m\"\"\"A namespace class to separate sparray from spmatrix\"\"\"\u001b[39;00m\n\u001b[32m   1398\u001b[39m sparray.\u001b[34m__doc__\u001b[39m = _spbase.\u001b[34m__doc__\u001b[39m\n\u001b[32m-> \u001b[39m\u001b[32m1401\u001b[39m \u001b[38;5;28;01mdef\u001b[39;00m\u001b[38;5;250m \u001b[39m\u001b[34missparse\u001b[39m(x):\n\u001b[32m   1402\u001b[39m \u001b[38;5;250m    \u001b[39m\u001b[33;03m\"\"\"Is `x` of a sparse array or sparse matrix type?\u001b[39;00m\n\u001b[32m   1403\u001b[39m \n\u001b[32m   1404\u001b[39m \u001b[33;03m    Parameters\u001b[39;00m\n\u001b[32m   (...)\u001b[39m\u001b[32m   1430\u001b[39m \u001b[33;03m    False\u001b[39;00m\n\u001b[32m   1431\u001b[39m \u001b[33;03m    \"\"\"\u001b[39;00m\n\u001b[32m   1432\u001b[39m     \u001b[38;5;28;01mreturn\u001b[39;00m \u001b[38;5;28misinstance\u001b[39m(x, _spbase)\n",
      "\u001b[31mKeyboardInterrupt\u001b[39m: "
     ]
    }
   ],
   "source": [
    "res_with_cdrcluster = train_regression_model(X_full, y_full, pca_components=X_full.shape[1], verbose=False)"
   ]
  },
  {
   "cell_type": "code",
   "execution_count": 110,
   "id": "e9a90a4b",
   "metadata": {},
   "outputs": [
    {
     "name": "stdout",
     "output_type": "stream",
     "text": [
      "\n",
      "--- Cross-Validation Complete ---\n",
      "Average Test Loss across 10 folds: 0.1713, std: 0.0155\n",
      "Average R2 Score across 10 folds: 0.8273, std: 0.0197\n",
      "Average Test Pearson Correlation across 10 folds: 0.9105, std: 0.0102\n",
      "Average Test Spearman Correlation across 10 folds: 0.9532, std: 0.0069\n"
     ]
    }
   ],
   "source": [
    "res_with_cdrcluster = train_regression_model(X_encoded_only, y_full, pca_components=X_full.shape[1], verbose=False)"
   ]
  },
  {
   "cell_type": "code",
   "execution_count": null,
   "id": "9fb8622d",
   "metadata": {},
   "outputs": [],
   "source": []
  }
 ],
 "metadata": {
  "kernelspec": {
   "display_name": "pyenv",
   "language": "python",
   "name": "python3"
  },
  "language_info": {
   "codemirror_mode": {
    "name": "ipython",
    "version": 3
   },
   "file_extension": ".py",
   "mimetype": "text/x-python",
   "name": "python",
   "nbconvert_exporter": "python",
   "pygments_lexer": "ipython3",
   "version": "3.11.12"
  }
 },
 "nbformat": 4,
 "nbformat_minor": 5
}
